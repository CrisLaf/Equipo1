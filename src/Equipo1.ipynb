{
 "cells": [
  {
   "cell_type": "code",
   "execution_count": 22,
   "metadata": {},
   "outputs": [],
   "source": [
    "import pandas as pd\n",
    "\n",
    "def cargar_datos():\n",
    "    historicos = pd.read_csv('/home/azureuser/cloudfiles/code/Users/cristinalafuente.netmind/workspace/DataExpert/Equipo1/etapa1/data/Historicos_Ordenes.csv')\n",
    "    caracteristicas = pd.read_csv('/home/azureuser/cloudfiles/code/Users/cristinalafuente.netmind/workspace/DataExpert/Equipo1/etapa1/data/Caracteristicas_Equipos.csv')\n",
    "    registros = pd.read_csv('/home/azureuser/cloudfiles/code/Users/cristinalafuente.netmind/workspace/DataExpert/Equipo1/etapa1/data/Registros_Condiciones.csv') \n",
    "    return historicos, caracteristicas, registros\n"
   ]
  },
  {
   "cell_type": "code",
   "execution_count": 25,
   "metadata": {},
   "outputs": [
    {
     "name": "stdout",
     "output_type": "stream",
     "text": [
      "   ID_Orden ID_Equipo       Fecha Tipo_Mantenimiento  Tiempo_Reparacion_Horas  \\\n",
      "0  OT000001      E016  2015-01-01         Preventivo                       43   \n",
      "1  OT000002      E006  2015-01-02         Preventivo                        6   \n",
      "2  OT000003      E013  2015-01-03         Correctivo                       43   \n",
      "3  OT000004      E018  2015-01-04         Correctivo                       43   \n",
      "4  OT000005      E004  2015-01-05         Correctivo                       47   \n",
      "5  OT000006      E011  2015-01-06         Correctivo                       25   \n",
      "6  OT000007      E019  2015-01-07         Preventivo                       36   \n",
      "7  OT000008      E013  2015-01-08         Correctivo                       18   \n",
      "8  OT000009      E011  2015-01-09         Correctivo                       22   \n",
      "9  OT000010      E002  2015-01-10         Preventivo                        6   \n",
      "\n",
      "   Costo_Mantenimiento     Ubicacion  \n",
      "0                 3781    Planta Sur  \n",
      "1                 2674   Planta Este  \n",
      "2                 3731  Planta Oeste  \n",
      "3                 2059    Planta Sur  \n",
      "4                  593   Planta Este  \n",
      "5                 4512    Planta Sur  \n",
      "6                 4742  Planta Norte  \n",
      "7                  517  Planta Norte  \n",
      "8                 2500  Planta Norte  \n",
      "9                 3408    Planta Sur  \n"
     ]
    }
   ],
   "source": [
    "\n",
    "def cargar_historico():\n",
    "    historicos = pd.read_csv('/home/azureuser/cloudfiles/code/Users/cristinalafuente.netmind/workspace/DataExpert/Equipo1/etapa1/data/Historicos_Ordenes.csv')\n",
    "    return historicos\n",
    "\n",
    "historicos = cargar_historico()\n",
    "\n",
    "print(historicos.head(10))\n",
    "\n"
   ]
  },
  {
   "cell_type": "code",
   "execution_count": 26,
   "metadata": {},
   "outputs": [
    {
     "name": "stdout",
     "output_type": "stream",
     "text": [
      "  ID_Equipo    Tipo_Equipo    Fabricante Fecha_Instalacion  Vida_Util_Anios  \\\n",
      "0      E001        Turbina  Fabricante B        2015-01-01               25   \n",
      "1      E002          Bomba  Fabricante C        2015-01-02               29   \n",
      "2      E003          Bomba  Fabricante C        2015-01-03               19   \n",
      "3      E004          Bomba  Fabricante C        2015-01-04               26   \n",
      "4      E005  Transformador  Fabricante A        2015-01-05               20   \n",
      "5      E006  Transformador  Fabricante C        2015-01-06               13   \n",
      "6      E007        Turbina  Fabricante B        2015-01-07               18   \n",
      "7      E008        Turbina  Fabricante B        2015-01-08               12   \n",
      "8      E009          Bomba  Fabricante C        2015-01-09               26   \n",
      "9      E010      Generador  Fabricante B        2015-01-10               15   \n",
      "\n",
      "   Potencia_kW  \n",
      "0         3603  \n",
      "1         4696  \n",
      "2         3880  \n",
      "3         3312  \n",
      "4         2735  \n",
      "5         1251  \n",
      "6         2500  \n",
      "7         3560  \n",
      "8         1714  \n",
      "9         2727  \n"
     ]
    }
   ],
   "source": [
    "def cargar_caracteristicas():\n",
    "    caracteristicas = pd.read_csv('/home/azureuser/cloudfiles/code/Users/cristinalafuente.netmind/workspace/DataExpert/Equipo1/etapa1/data/Caracteristicas_Equipos.csv')\n",
    "    return caracteristicas\n",
    "\n",
    "caracteristicas = cargar_caracteristicas()\n",
    "\n",
    "print(caracteristicas.head(10))\n"
   ]
  },
  {
   "cell_type": "code",
   "execution_count": 27,
   "metadata": {},
   "outputs": [
    {
     "name": "stdout",
     "output_type": "stream",
     "text": [
      "  ID_Equipo       Fecha  Horas_Operativas  Temperatura_C  Vibracion_mm_s  \\\n",
      "0      E011  2023-01-01                 2          61.00            1.97   \n",
      "1      E017  2023-01-02                16          74.88            4.21   \n",
      "2      E007  2023-01-03                 8          73.84            3.54   \n",
      "3      E015  2023-01-04                21          65.28            4.84   \n",
      "4      E003  2023-01-05                10          47.36            1.65   \n",
      "5      E006  2023-01-06                 5          78.71            2.03   \n",
      "6      E008  2023-01-07                21          30.20            2.78   \n",
      "7      E008  2023-01-08                22          33.60            2.27   \n",
      "8      E018  2023-01-09                20          21.69            2.57   \n",
      "9      E003  2023-01-10                21          54.67            2.51   \n",
      "\n",
      "   Presion_Bar  Horas_Acumuladas  \n",
      "0         6.38                 2  \n",
      "1         9.89                16  \n",
      "2         2.18                 8  \n",
      "3         2.38                21  \n",
      "4         7.38                10  \n",
      "5         8.50                 5  \n",
      "6         2.88                21  \n",
      "7         1.78                43  \n",
      "8         6.87                20  \n",
      "9         8.85                31  \n"
     ]
    }
   ],
   "source": [
    "def cargar_registros():\n",
    "    registros = pd.read_csv('/home/azureuser/cloudfiles/code/Users/cristinalafuente.netmind/workspace/DataExpert/Equipo1/etapa1/data/Registros_Condiciones.csv') \n",
    "    return registros\n",
    "\n",
    "registros = cargar_registros()\n",
    "\n",
    "print(registros.head(10))"
   ]
  },
  {
   "cell_type": "code",
   "execution_count": null,
   "metadata": {},
   "outputs": [],
   "source": [
    "#2. **Filtrado y agrupamiento:**\n",
    " #  - Contar el número total de órdenes de mantenimiento realizadas para cada equipo (`ID_Equipo`).\n",
    " #  - Calcular la duración promedio de vida útil de los equipos en el dataset `Caracteristicas_Equipos.csv`.\n",
    " #  - Filtrar las órdenes de trabajo para identificar las de tipo \"Correctivo\" y calcular el costo promedio de estas."
   ]
  },
  {
   "cell_type": "code",
   "execution_count": 1,
   "metadata": {},
   "outputs": [
    {
     "name": "stdout",
     "output_type": "stream",
     "text": [
      "Database conn successful\n"
     ]
    }
   ],
   "source": [
    "# # Do not expose your Neon credentials to the browser\n",
    "\n",
    "PGHOST='ep-polished-lab-a8go5e9o.eastus2.azure.neon.tech'\n",
    "PGDATABASE='neondb'\n",
    "PGUSER='neondb_owner'\n",
    "PGPASSWORD='fEL8JRQhXlS9'\n",
    "\n",
    "import psycopg2\n",
    "\n",
    "\n",
    "def create_server_connection():\n",
    "    conn = None\n",
    "    try:\n",
    "        conn = psycopg2.connect(database= PGDATABASE , user= PGUSER , password= PGPASSWORD , host= PGHOST , port=5432)\n",
    "        print(\"Database conn successful\")\n",
    "    except Error as err:\n",
    "        print(f\"Error: '{err}'\")\n",
    "\n",
    "    return conn\n",
    "\n",
    "connection = create_server_connection()\n",
    "connection.close()"
   ]
  },
  {
   "cell_type": "code",
   "execution_count": 4,
   "metadata": {},
   "outputs": [
    {
     "name": "stdout",
     "output_type": "stream",
     "text": [
      "Database conn successful\n",
      "('E001', 487)\n",
      "('E002', 485)\n",
      "('E003', 506)\n",
      "('E004', 539)\n",
      "('E005', 502)\n",
      "('E006', 473)\n",
      "('E007', 485)\n",
      "('E008', 531)\n",
      "('E009', 507)\n",
      "('E010', 537)\n",
      "('E011', 483)\n",
      "('E012', 470)\n",
      "('E013', 496)\n",
      "('E014', 464)\n",
      "('E015', 495)\n",
      "('E016', 478)\n",
      "('E017', 532)\n",
      "('E018', 498)\n",
      "('E019', 516)\n",
      "('E020', 516)\n"
     ]
    }
   ],
   "source": [
    "# SELECT\n",
    "conn = create_server_connection()\n",
    "\n",
    "cur = conn.cursor()\n",
    "cur.execute('''select h.id_equipo, count(distinct h.id_orden) from historicos_ordenes h \n",
    "group by id_equipo;''')\n",
    "rows = cur.fetchall()\n",
    "conn.commit()\n",
    "cur.close()\n",
    "conn.close()\n",
    "\n",
    "for row in rows:\n",
    "    print(row)"
   ]
  }
 ],
 "metadata": {
  "kernelspec": {
   "display_name": "Python 3.8 - AzureML",
   "language": "python",
   "name": "python38-azureml"
  },
  "language_info": {
   "codemirror_mode": {
    "name": "ipython",
    "version": 3
   },
   "file_extension": ".py",
   "mimetype": "text/x-python",
   "name": "python",
   "nbconvert_exporter": "python",
   "pygments_lexer": "ipython3",
   "version": "3.10.11"
  }
 },
 "nbformat": 4,
 "nbformat_minor": 2
}
